{
 "cells": [
  {
   "cell_type": "code",
   "execution_count": 1,
   "metadata": {},
   "outputs": [
    {
     "ename": "ModuleNotFoundError",
     "evalue": "No module named 'app'",
     "output_type": "error",
     "traceback": [
      "\u001b[1;31m---------------------------------------------------------------------------\u001b[0m",
      "\u001b[1;31mModuleNotFoundError\u001b[0m                       Traceback (most recent call last)",
      "\u001b[1;32m<ipython-input-1-f29432b88eea>\u001b[0m in \u001b[0;36m<module>\u001b[1;34m\u001b[0m\n\u001b[1;32m----> 1\u001b[1;33m \u001b[1;32mfrom\u001b[0m \u001b[0mapp\u001b[0m\u001b[1;33m.\u001b[0m\u001b[0mmodels\u001b[0m \u001b[1;32mimport\u001b[0m \u001b[1;33m*\u001b[0m\u001b[1;33m\u001b[0m\u001b[1;33m\u001b[0m\u001b[0m\n\u001b[0m",
      "\u001b[1;31mModuleNotFoundError\u001b[0m: No module named 'app'"
     ]
    }
   ],
   "source": [
    "from django.contrib.auth.decorators import login_required\n",
    "from django.shortcuts import render, get_object_or_404, redirect\n",
    "from django.template import loader\n",
    "from django.http import HttpResponse\n",
    "from django.core import serializers\n",
    "from django import template\n",
    "from bootstrap_datepicker_plus import DateTimePickerInput\n",
    "from django.db.models import *\n",
    "from app.models import *\n",
    "from app.forms import *\n",
    "from app.util import *\n",
    "\n",
    "def tipus(request):\n",
    "    context = {'type_list': types.objects.all()}\n",
    "    return render(request, \"tipus.html\", context)\n",
    "\n",
    "def tipus_delete(request, id):\n",
    "    tipus = types.objects.get(pk=id)\n",
    "    tipus.delete()\n",
    "    return redirect('tipus')\n",
    "\n",
    "def tipus_form(request, id=0):\n",
    "    if request.method == \"GET\":\n",
    "        if id == 0:\n",
    "            form = tipusForm()\n",
    "        else:\n",
    "            tipus = types.objects.get(pk=id)\n",
    "            form = tipusForm(instance=tipus)\n",
    "        return render( request, \"tipus_form.html\",{'form':form})\n",
    "    else:\n",
    "        if id == 0:\n",
    "            form = tipusForm(request.POST)\n",
    "        else:\n",
    "            tipus = types.objects.get(pk=id)\n",
    "            form = tipusForm(request.POST, instance=tipus)\n",
    "        if form.is_valid():\n",
    "            form.save()\n",
    "        return redirect('tipus')\n",
    "\n",
    "def tipus_asJson(request):\n",
    "    object_list = types.objects.all() #or any kind of queryset\n",
    "    json = serializers.serialize('json', object_list)\n",
    "    return HttpResponse(json, content_type='application/json')\n",
    "\n"
   ]
  },
  {
   "cell_type": "code",
   "execution_count": null,
   "metadata": {},
   "outputs": [],
   "source": []
  }
 ],
 "metadata": {
  "kernelspec": {
   "display_name": "Python 3",
   "language": "python",
   "name": "python3"
  },
  "language_info": {
   "codemirror_mode": {
    "name": "ipython",
    "version": 3
   },
   "file_extension": ".py",
   "mimetype": "text/x-python",
   "name": "python",
   "nbconvert_exporter": "python",
   "pygments_lexer": "ipython3",
   "version": "3.8.2"
  }
 },
 "nbformat": 4,
 "nbformat_minor": 4
}
